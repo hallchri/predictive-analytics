{
 "cells": [
  {
   "cell_type": "markdown",
   "metadata": {},
   "source": [
    "# Project: Financial time series forecasting"
   ]
  },
  {
   "cell_type": "markdown",
   "metadata": {},
   "source": [
    "The following project is could be done individually or in pairs but you not allowed to share your solution with anyone else. Read below carefully!"
   ]
  },
  {
   "cell_type": "markdown",
   "metadata": {},
   "source": [
    "- The aim of the project is that you learn how to set up an analytics project end-to-end. A secondary aim is that you understand how to work with a time series dataset and forecast based on such data. Third aim is that you gain an insight into how to interpret data and results.\n",
    "\n",
    "- **The solution must address each grade in the written order.** Therefore, to complete grade two you must have completed grade one without errors, and so on.\n",
    "\n",
    "- Your code will be tested on [https://notebooks.csc.fi](https://notebooks.csc.fi). If it doesn't run there it will not be accepted.\n",
    "\n",
    "- Clean up and format nicely your code before the subbmission. Spaghetti-draft-style with code repetitions will lower your grade.\n",
    "\n",
    "- You are advised to reserve about 60 hours of self-studies for this project.\n",
    "\n",
    "- Unintentionally, there may be information missing in the description, please go through the description early in advance so that you have time to ask for assistance.\n"
   ]
  },
  {
   "cell_type": "markdown",
   "metadata": {},
   "source": [
    "<a id='toc'></a>\n",
    "# TOC\n",
    "\n",
    "[Grade 1](#g1)\n",
    "\n",
    "[Grade 2](#g2)\n",
    "\n",
    "[Grade 3](#g3)\n",
    "\n",
    "[Grade 4](#g4)\n",
    "\n",
    "[Grade 5](#g5)\n"
   ]
  },
  {
   "cell_type": "code",
   "execution_count": 1,
   "metadata": {},
   "outputs": [
    {
     "name": "stdout",
     "output_type": "stream",
     "text": [
      "\n"
     ]
    }
   ],
   "source": [
    "# First upgrade the environment.\n",
    "# https://pypi.org/project/yfinance\n",
    "import pip\n",
    "from subprocess import run\n",
    "# add what you will need\n",
    "modules =[\n",
    "#     'pandas_datareader',\n",
    "#     'yfinance',\n",
    "    'pandas_market_calendars',\n",
    "    'plotly', \n",
    "    'numpy',\n",
    "    'sklearn',\n",
    "    'pandas'\n",
    "]\n",
    "proc = run(f'pip install {\" \".join(modules)} --upgrade --no-input', \n",
    "       shell=True, \n",
    "       text=True, \n",
    "       capture_output=True, \n",
    "       timeout=40)\n",
    "print(proc.stderr)"
   ]
  },
  {
   "cell_type": "code",
   "execution_count": 2,
   "metadata": {},
   "outputs": [],
   "source": [
    "## Run this if you need to check your modules\n",
    "# import pip\n",
    "# from pip._internal.utils.misc import get_installed_distributions\n",
    "# pkgs = ''.join(str(get_installed_distributions(local_only=True)))\n",
    "\n",
    "# with open(\"modules.txt\", \"a\") as file_object:\n",
    "#     for p in (get_installed_distributions(local_only=True)):\n",
    "#         file_object.write(str(p)+'\\n')\n",
    "#         print(str(p))\n",
    "# file_object.close()"
   ]
  },
  {
   "cell_type": "code",
   "execution_count": 3,
   "metadata": {},
   "outputs": [],
   "source": [
    "import pandas as pd\n",
    "from pathlib import Path\n",
    "import numpy as np\n",
    "\n",
    "import matplotlib\n",
    "import matplotlib.pyplot as plt\n",
    "from matplotlib.ticker import ScalarFormatter, FuncFormatter, StrMethodFormatter\n",
    "%matplotlib inline\n",
    "\n",
    "import plotly as ply\n",
    "import plotly.graph_objects as go\n",
    "\n",
    "import sklearn\n",
    "from sklearn.preprocessing import StandardScaler, Normalizer\n",
    "from sklearn.linear_model import LinearRegression\n",
    "from sklearn.model_selection import TimeSeriesSplit\n",
    "\n",
    "from functools import reduce\n",
    "from operator import mul\n",
    "from pprint import PrettyPrinter\n",
    "pprint = PrettyPrinter().pprint"
   ]
  },
  {
   "cell_type": "markdown",
   "metadata": {},
   "source": [
    "<a id='g1'></a>\n",
    "# Grade 1\n",
    "## Implement a complete process for forecasting a single stock.\n",
    "\n",
    "You should do the following steps:\n",
    "- Use the [EURUSD data set](https://people.arcada.fi/~parland/hjd5_8amp_Gt3/EURUSD1m.zip) (52Mb)\n",
    "\n",
    "- Subsampe data to one day timesteps, be shure to get data also from weekends.\n",
    "\n",
    "- Create a Label column for your forecast, by shifting the Close value 1 step. You will predict one day ahead.\n",
    "\n",
    "- Split data into 80/20 (train/test). Be carefull: you are splitting a time serie.\n",
    "\n",
    "\n",
    "- [Normalize or standardize](https://scikit-learn.org/stable/modules/preprocessing.html) wisely so you don't allow information leakage to the test subset. Note, that utility class [Normalizer](https://scikit-learn.org/stable/modules/generated/sklearn.preprocessing.Normalizer.html) performs scaling **individual samples to have unit norm**, so it is not usefull for sertain tasks. Write your own function or check [MinMaxScaler](https://scikit-learn.org/stable/modules/generated/sklearn.preprocessing.MinMaxScaler.html) or [StandardScaler](https://scikit-learn.org/stable/modules/generated/sklearn.preprocessing.StandardScaler.html). Please check in which order you perform split and scale.\n",
    "\n",
    "    - Data → X, y → split → scale\n",
    "    - Data → split → scale → X_test, y_test ; X_train, y_train\n",
    "    \n",
    "  If you take the second path, you should figure out how to do the inverse transform for your predictions.\n",
    "  \n",
    "  \n",
    "  \n",
    "\n",
    "- Calculate feature [Larry William’s %R](https://www.investopedia.com/terms/w/williamsr.asp) from the paper [Predicting the Direction of Stock Market Index Movement Using an Optimized Artificial Neural Network Model](https://www.ncbi.nlm.nih.gov/pmc/articles/PMC4873195) (implement in code, insert values in a complementary column). \n",
    "\n",
    "**Note that you need to implement your own calculation of each feature and be able to explain the code.**\n",
    "\n",
    "- Drop other data than the Close and the features for inference. You don't want to feed time-column into the model, it's not a feature to base your prediction on.\n",
    "\n",
    "- Fit a [linear model](https://scikit-learn.org/stable/modules/linear_model.html#ordinary-least-squares) to the training data\n",
    "\n",
    "- Forecast one day ahead based on the test data\n",
    "\n",
    "- Calculate the [R² error](https://en.wikipedia.org/wiki/Coefficient_of_determination) on both the training data set and the test. Please format numbers to four [significant digits](https://en.wikipedia.org/wiki/Significant_figures). As a check you may note that values suppose to be in the range 0.9755 … 0.9922 for test and 0.9955 … 0.9988 for train. If you get R² error outside these ranges it **indicates** that highly likely you have an error in your logic.\n",
    "\n",
    "**NB! You may also get an expected result by performing several cumulative mistakes.**  \n",
    "\n",
    "$$ (2+1)\\times 3 = ?$$\n",
    "\n",
    "$$ Attempt $$\n",
    "$$ 2+1=4 $$\n",
    "$$ 4\\times 3 = 9 $$\n",
    "$$ Answer: 9 $$\n",
    "\n",
    "**The objective of this assignment is not to achieve a correct result but to achieve the result correctly.**\n",
    "\n",
    "- Compare the R² errors for test and train and explain the outcome. \n",
    "\n",
    "- Extra: Test your model (get R² errors for test and train without LW%R, just Close column) on [this dataset](https://people.arcada.fi/~parland/hjd5_8amp_Gt3/strangeClose.csv). Comment and explain the result. A reasonable explanation will compensate for one error in the following grades.\n"
   ]
  },
  {
   "cell_type": "markdown",
   "metadata": {},
   "source": [
    "### **Larry William’s %R**\n",
    "\n",
    "$ (H_n − C_t)/(H_n − L_n)\\times100 $"
   ]
  },
  {
   "cell_type": "markdown",
   "metadata": {},
   "source": [
    "### Coefficient of determination ($R^2$)\n",
    "\n",
    "$$R^2 = 1 - \\frac {SSResid}{SSTot}$$\n",
    "\n",
    "#### Residual Sum of Squares: $SSResid = \\sum_{i} (y_i - \\hat{y_i})^2$\n",
    "\n",
    "#### Total Sum of Squares: $SSTot = \\sum_{i} (y_i - \\bar{y})^2$\n",
    "\n",
    "#### A baseline model, which always predicts $\\bar {y}$, will have $R^2 = 0$"
   ]
  },
  {
   "cell_type": "code",
   "execution_count": null,
   "metadata": {},
   "outputs": [],
   "source": [
    "# here is an example of Disparity in 5 days = Ct/MA5 × 100\n",
    "def Disparity_5(df):\n",
    "    return 100 * df['close'] / df['close'].rolling(window = 5).mean()\n",
    "\n",
    "df['Disparity_5'] = Disparity_5(df)"
   ]
  },
  {
   "cell_type": "code",
   "execution_count": null,
   "metadata": {},
   "outputs": [],
   "source": []
  },
  {
   "cell_type": "markdown",
   "metadata": {},
   "source": [
    "<a id='g2'></a>\n",
    "# Grade 2\n",
    "## Illustrate data using plotly (or other) library\n",
    "\n",
    "- Calculate additional feature [Stochastic slow %D](https://www.investopedia.com/ask/answers/05/062405.asp)\n",
    "- Create a figure based on OHLC candles **covering the test period** (the 20% of data)\n",
    "- Add a line chart(s) that illustrates the *label* (actual data) and the *forecast* to the same figure over OHLC. The lines should have different colors and include names of the series.\n",
    "- Add subplot(s) with the LW%R and Stochastic slow %D feature in the figure with OHLC, label and forecast so we can se all time-aligned. Don't forget to sclae back the predicted values to the original range.\n",
    "- What patterns can you observe from the line figure?"
   ]
  },
  {
   "cell_type": "markdown",
   "metadata": {},
   "source": [
    "### Stochastic %K\t\n",
    "<br>\n",
    "<span style='font-size:20px'>\n",
    "$\\frac{(C_t − L_n)}{(H_n − L_n)}\\times100$\n",
    "</span>\n",
    "    \n",
    "### Stochastic %D\n",
    "<br>\n",
    "<span style='font-size:20px'>\n",
    "$\\sum\\nolimits_{i=0}^{n-1}\\frac{\\%K_{t-i}}n$\n",
    "</span>\n",
    "    \n",
    "### Stochastic slow %D\n",
    "<br>\n",
    "<span style='font-size:25px'>\n",
    "$\\frac{\\sum_{i=0}^{n-1}\\%D_{t-i}}n$\n",
    "</span>"
   ]
  },
  {
   "cell_type": "code",
   "execution_count": null,
   "metadata": {},
   "outputs": [],
   "source": []
  },
  {
   "cell_type": "markdown",
   "metadata": {},
   "source": [
    "<a id='g3'></a>\n",
    "# Grade 3\n",
    "\n",
    "- Calculate additional feature [RSI (relative strength index)](https://www.investopedia.com/terms/r/rsi.asp)\n",
    "- Add the feature as a subplot to the figure in the previos step\n",
    "- Set up an [ElasticNet](https://scikit-learn.org/stable/modules/linear_model.html#elastic-net) (**not** an [ElasticNetCV](https://scikit-learn.org/stable/modules/generated/sklearn.linear_model.ElasticNetCV.html)) model\n",
    "- Fit/train the ElasticNet to the training data\n",
    "- Forecast and calculate the R² error on both the training data set and the test\n",
    "- Add your new *forecast* line to the previos figure, so the predictions from both models are placed over each other and can be compared\n",
    "- Compare the errors and explain the outcome"
   ]
  },
  {
   "cell_type": "markdown",
   "metadata": {},
   "source": [
    "### RSI\n",
    "<br>\n",
    "<span style='font-size:25px'>\n",
    "$100-\\frac{100}{\\left(1+\\frac{\\frac{\\sum_{i=0}^{n-1}Up_{t-i}}{\\text{n}}}{\\frac{\\sum_{i=0}^{n-1}Dw_{t-i}}{\\text{n}}}\\right)} $\n",
    "    </span>"
   ]
  },
  {
   "cell_type": "code",
   "execution_count": null,
   "metadata": {},
   "outputs": [],
   "source": []
  },
  {
   "cell_type": "markdown",
   "metadata": {},
   "source": [
    "<a id='g4'></a>\n",
    "# Grade 4\n",
    "\n",
    "- Calculate additional feature [On Balance Volume](https://www.investopedia.com/terms/o/onbalancevolume.asp)\n",
    "- Create sliding windows for the input data, e.g. the window length of 10, 5, and 2 samples. You will extract data for the window length n (rows), and turn the data from a matrix (2D) form into a vector form of the size $R\\times C$ (i.e. number of rows * number of columns in the window) [NumPy Array Reshaping](https://www.w3schools.com/python/numpy_array_reshape.asp). You will probably need to create a function that returns a vector (array, tuple, list, Series). Other solutions are also possible. Here is an example of two days window for two features attached to the original data:\n",
    "\n",
    "|     | a | b   | a-1 | b-1 | a-2 | b-2 |\n",
    "|:---:|:-:|:---:|:---:|:---:|:---:|:---:| \n",
    "| t₁  | 0 |\t1   | nan | nan | nan | nan |\t\n",
    "| t₂  | 2 |\t3   | 0   | 1   | nan | nan |\n",
    "| t₃  | 4 |\t5   | 2   | 3   | 0\t  | 1   | \n",
    "| t₄  | 6 |\t7   | 4   | 5   | 2\t  | 3   | \n",
    "| t₅  | 8 |\t9   | 6   | 7   | 4\t  | 5   |\n",
    "\n",
    "- Set up a [Polynomial regression](https://scikit-learn.org/stable/modules/linear_model.html#polynomial-regression-extending-linear-models-with-basis-functions)\n",
    "- Fit and run all three different models (on all features) for all three different window lengths\n",
    "- Summarize and compare their R² error measures. Is anyone better than the [LinearRegression model](https://en.wikipedia.org/wiki/Linear_regression) without window information attached?\n",
    "\n",
    "| M\\W  | no |  2 |  5 | 10 |\n",
    "|:----:|:--:|:--:|:--:|:--:|\n",
    "|  M₁  | R² | R² | R² | R² |\n",
    "|  M₂  | R² | R² | R² | R² |\n",
    "|  M₃  | R² | R² | R² | R² |\n"
   ]
  },
  {
   "cell_type": "markdown",
   "metadata": {},
   "source": [
    "### **On Balance Volume**\n",
    "\n",
    "$ OBV_t = OBV_{t − 1} + \\theta \\times V_t $\n",
    "\n",
    "where $V_t$ is the volume of trade at time $t$, and \n",
    "\n",
    "(*classic definition*) $ \\theta = \n",
    "\\begin{cases}\n",
    "  +1, & \\textit{if} \\ C_t > C_{t−1} \\\\\n",
    "  0, & \\textit{if} \\ C_t = C_{t−1} \\\\\n",
    "  –1, & \\textit{otherwise}\n",
    "\\end{cases}\n",
    "$  <br /><br /> or  (*definition from the paper*) $ \\theta = \n",
    "\\begin{cases}\n",
    "  +1, & \\textit{if} \\ C_t \\geq C_{t−1} \\\\\n",
    "  –1, & \\textit{otherwise}\n",
    "\\end{cases}\n",
    "$\n"
   ]
  },
  {
   "cell_type": "code",
   "execution_count": null,
   "metadata": {},
   "outputs": [],
   "source": []
  },
  {
   "cell_type": "markdown",
   "metadata": {},
   "source": [
    "<a id='g5'></a>\n",
    "# Grade 5\n",
    "Implement an investment decision to either buy or sell based on some signals which you choose to detect. \n",
    "See the paper for how this can be done, the easiest solution is to hand-craft this decision to either buy or sell.\n",
    "\n",
    "- Compare the regression forecast with the known Close price.\n",
    "- Once the the forecast go above Close price you can define a buy opportunity\n",
    "- You can decide to keep and hold if forecasted difference small or based on other signals.\n",
    "- Calculate the hit ratio of your investment decision for each of the windows. The HR is the number of times a correct prediction has been made in relation to the total number of predictions. For example, if 10 predictions were correct out of 50, the HR would be 1:5 or 0.2\n",
    "- Forecast one week ahead and compare the hit ratio with one day ahead forecast\n",
    "- Which setup was the best, and why was that?\n"
   ]
  },
  {
   "cell_type": "code",
   "execution_count": null,
   "metadata": {},
   "outputs": [],
   "source": []
  },
  {
   "cell_type": "markdown",
   "metadata": {},
   "source": [
    "# Happy coding! 👩‍💻\n",
    "\n"
   ]
  }
 ],
 "metadata": {
  "kernelspec": {
   "display_name": "Python 3",
   "language": "python",
   "name": "python3"
  },
  "language_info": {
   "codemirror_mode": {
    "name": "ipython",
    "version": 3
   },
   "file_extension": ".py",
   "mimetype": "text/x-python",
   "name": "python",
   "nbconvert_exporter": "python",
   "pygments_lexer": "ipython3",
   "version": "3.7.10"
  }
 },
 "nbformat": 4,
 "nbformat_minor": 4
}
